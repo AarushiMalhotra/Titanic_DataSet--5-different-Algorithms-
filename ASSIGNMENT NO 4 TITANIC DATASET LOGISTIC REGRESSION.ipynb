{
 "cells": [
  {
   "cell_type": "code",
   "execution_count": 1,
   "metadata": {},
   "outputs": [],
   "source": [
    "import numpy as np\n",
    "import pandas as pd\n",
    "import matplotlib.pyplot as plt\n",
    "%matplotlib inline"
   ]
  },
  {
   "cell_type": "code",
   "execution_count": 2,
   "metadata": {},
   "outputs": [],
   "source": [
    "ds = pd.read_csv(\"C:/Users/Dell/Desktop/titanic.csv\")"
   ]
  },
  {
   "cell_type": "code",
   "execution_count": 3,
   "metadata": {},
   "outputs": [
    {
     "data": {
      "text/html": [
       "<div>\n",
       "<style scoped>\n",
       "    .dataframe tbody tr th:only-of-type {\n",
       "        vertical-align: middle;\n",
       "    }\n",
       "\n",
       "    .dataframe tbody tr th {\n",
       "        vertical-align: top;\n",
       "    }\n",
       "\n",
       "    .dataframe thead th {\n",
       "        text-align: right;\n",
       "    }\n",
       "</style>\n",
       "<table border=\"1\" class=\"dataframe\">\n",
       "  <thead>\n",
       "    <tr style=\"text-align: right;\">\n",
       "      <th></th>\n",
       "      <th>PassengerId</th>\n",
       "      <th>Survived</th>\n",
       "      <th>Pclass</th>\n",
       "      <th>Name</th>\n",
       "      <th>Sex</th>\n",
       "      <th>Age</th>\n",
       "      <th>SibSp</th>\n",
       "      <th>Parch</th>\n",
       "      <th>Ticket</th>\n",
       "      <th>Fare</th>\n",
       "      <th>Cabin</th>\n",
       "      <th>Embarked</th>\n",
       "    </tr>\n",
       "  </thead>\n",
       "  <tbody>\n",
       "    <tr>\n",
       "      <th>0</th>\n",
       "      <td>1</td>\n",
       "      <td>0</td>\n",
       "      <td>3</td>\n",
       "      <td>Braund, Mr. Owen Harris</td>\n",
       "      <td>male</td>\n",
       "      <td>22.0</td>\n",
       "      <td>1</td>\n",
       "      <td>0</td>\n",
       "      <td>A/5 21171</td>\n",
       "      <td>7.2500</td>\n",
       "      <td>NaN</td>\n",
       "      <td>S</td>\n",
       "    </tr>\n",
       "    <tr>\n",
       "      <th>1</th>\n",
       "      <td>2</td>\n",
       "      <td>1</td>\n",
       "      <td>1</td>\n",
       "      <td>Cumings, Mrs. John Bradley (Florence Briggs Th...</td>\n",
       "      <td>female</td>\n",
       "      <td>38.0</td>\n",
       "      <td>1</td>\n",
       "      <td>0</td>\n",
       "      <td>PC 17599</td>\n",
       "      <td>71.2833</td>\n",
       "      <td>C85</td>\n",
       "      <td>C</td>\n",
       "    </tr>\n",
       "    <tr>\n",
       "      <th>2</th>\n",
       "      <td>3</td>\n",
       "      <td>1</td>\n",
       "      <td>3</td>\n",
       "      <td>Heikkinen, Miss. Laina</td>\n",
       "      <td>female</td>\n",
       "      <td>26.0</td>\n",
       "      <td>0</td>\n",
       "      <td>0</td>\n",
       "      <td>STON/O2. 3101282</td>\n",
       "      <td>7.9250</td>\n",
       "      <td>NaN</td>\n",
       "      <td>S</td>\n",
       "    </tr>\n",
       "    <tr>\n",
       "      <th>3</th>\n",
       "      <td>4</td>\n",
       "      <td>1</td>\n",
       "      <td>1</td>\n",
       "      <td>Futrelle, Mrs. Jacques Heath (Lily May Peel)</td>\n",
       "      <td>female</td>\n",
       "      <td>35.0</td>\n",
       "      <td>1</td>\n",
       "      <td>0</td>\n",
       "      <td>113803</td>\n",
       "      <td>53.1000</td>\n",
       "      <td>C123</td>\n",
       "      <td>S</td>\n",
       "    </tr>\n",
       "    <tr>\n",
       "      <th>4</th>\n",
       "      <td>5</td>\n",
       "      <td>0</td>\n",
       "      <td>3</td>\n",
       "      <td>Allen, Mr. William Henry</td>\n",
       "      <td>male</td>\n",
       "      <td>35.0</td>\n",
       "      <td>0</td>\n",
       "      <td>0</td>\n",
       "      <td>373450</td>\n",
       "      <td>8.0500</td>\n",
       "      <td>NaN</td>\n",
       "      <td>S</td>\n",
       "    </tr>\n",
       "  </tbody>\n",
       "</table>\n",
       "</div>"
      ],
      "text/plain": [
       "   PassengerId  Survived  Pclass  \\\n",
       "0            1         0       3   \n",
       "1            2         1       1   \n",
       "2            3         1       3   \n",
       "3            4         1       1   \n",
       "4            5         0       3   \n",
       "\n",
       "                                                Name     Sex   Age  SibSp  \\\n",
       "0                            Braund, Mr. Owen Harris    male  22.0      1   \n",
       "1  Cumings, Mrs. John Bradley (Florence Briggs Th...  female  38.0      1   \n",
       "2                             Heikkinen, Miss. Laina  female  26.0      0   \n",
       "3       Futrelle, Mrs. Jacques Heath (Lily May Peel)  female  35.0      1   \n",
       "4                           Allen, Mr. William Henry    male  35.0      0   \n",
       "\n",
       "   Parch            Ticket     Fare Cabin Embarked  \n",
       "0      0         A/5 21171   7.2500   NaN        S  \n",
       "1      0          PC 17599  71.2833   C85        C  \n",
       "2      0  STON/O2. 3101282   7.9250   NaN        S  \n",
       "3      0            113803  53.1000  C123        S  \n",
       "4      0            373450   8.0500   NaN        S  "
      ]
     },
     "execution_count": 3,
     "metadata": {},
     "output_type": "execute_result"
    }
   ],
   "source": [
    "ds.head()"
   ]
  },
  {
   "cell_type": "code",
   "execution_count": 4,
   "metadata": {},
   "outputs": [
    {
     "data": {
      "text/plain": [
       "PassengerId      0\n",
       "Survived         0\n",
       "Pclass           0\n",
       "Name             0\n",
       "Sex              0\n",
       "Age            177\n",
       "SibSp            0\n",
       "Parch            0\n",
       "Ticket           0\n",
       "Fare             0\n",
       "Cabin          687\n",
       "Embarked         2\n",
       "dtype: int64"
      ]
     },
     "execution_count": 4,
     "metadata": {},
     "output_type": "execute_result"
    }
   ],
   "source": [
    "ds.isna().sum()"
   ]
  },
  {
   "cell_type": "code",
   "execution_count": 5,
   "metadata": {},
   "outputs": [
    {
     "data": {
      "text/plain": [
       "Index(['PassengerId', 'Survived', 'Pclass', 'Name', 'Sex', 'Age', 'SibSp',\n",
       "       'Parch', 'Ticket', 'Fare', 'Cabin', 'Embarked'],\n",
       "      dtype='object')"
      ]
     },
     "execution_count": 5,
     "metadata": {},
     "output_type": "execute_result"
    }
   ],
   "source": [
    "ds.keys()"
   ]
  },
  {
   "cell_type": "code",
   "execution_count": 6,
   "metadata": {},
   "outputs": [
    {
     "name": "stdout",
     "output_type": "stream",
     "text": [
      "Index(['Survived', 'Pclass', 'Sex', 'SibSp', 'Parch', 'Fare'], dtype='object')\n"
     ]
    },
    {
     "data": {
      "text/html": [
       "<div>\n",
       "<style scoped>\n",
       "    .dataframe tbody tr th:only-of-type {\n",
       "        vertical-align: middle;\n",
       "    }\n",
       "\n",
       "    .dataframe tbody tr th {\n",
       "        vertical-align: top;\n",
       "    }\n",
       "\n",
       "    .dataframe thead th {\n",
       "        text-align: right;\n",
       "    }\n",
       "</style>\n",
       "<table border=\"1\" class=\"dataframe\">\n",
       "  <thead>\n",
       "    <tr style=\"text-align: right;\">\n",
       "      <th></th>\n",
       "      <th>Survived</th>\n",
       "      <th>Pclass</th>\n",
       "      <th>Sex</th>\n",
       "      <th>SibSp</th>\n",
       "      <th>Parch</th>\n",
       "      <th>Fare</th>\n",
       "    </tr>\n",
       "  </thead>\n",
       "  <tbody>\n",
       "    <tr>\n",
       "      <th>0</th>\n",
       "      <td>0</td>\n",
       "      <td>3</td>\n",
       "      <td>male</td>\n",
       "      <td>1</td>\n",
       "      <td>0</td>\n",
       "      <td>7.2500</td>\n",
       "    </tr>\n",
       "    <tr>\n",
       "      <th>1</th>\n",
       "      <td>1</td>\n",
       "      <td>1</td>\n",
       "      <td>female</td>\n",
       "      <td>1</td>\n",
       "      <td>0</td>\n",
       "      <td>71.2833</td>\n",
       "    </tr>\n",
       "    <tr>\n",
       "      <th>2</th>\n",
       "      <td>1</td>\n",
       "      <td>3</td>\n",
       "      <td>female</td>\n",
       "      <td>0</td>\n",
       "      <td>0</td>\n",
       "      <td>7.9250</td>\n",
       "    </tr>\n",
       "    <tr>\n",
       "      <th>3</th>\n",
       "      <td>1</td>\n",
       "      <td>1</td>\n",
       "      <td>female</td>\n",
       "      <td>1</td>\n",
       "      <td>0</td>\n",
       "      <td>53.1000</td>\n",
       "    </tr>\n",
       "    <tr>\n",
       "      <th>4</th>\n",
       "      <td>0</td>\n",
       "      <td>3</td>\n",
       "      <td>male</td>\n",
       "      <td>0</td>\n",
       "      <td>0</td>\n",
       "      <td>8.0500</td>\n",
       "    </tr>\n",
       "  </tbody>\n",
       "</table>\n",
       "</div>"
      ],
      "text/plain": [
       "   Survived  Pclass     Sex  SibSp  Parch     Fare\n",
       "0         0       3    male      1      0   7.2500\n",
       "1         1       1  female      1      0  71.2833\n",
       "2         1       3  female      0      0   7.9250\n",
       "3         1       1  female      1      0  53.1000\n",
       "4         0       3    male      0      0   8.0500"
      ]
     },
     "execution_count": 6,
     "metadata": {},
     "output_type": "execute_result"
    }
   ],
   "source": [
    "cols_to_drop = ['PassengerId','Name','Age','Ticket','Cabin', 'Embarked']\n",
    "df = ds.drop(cols_to_drop,axis = 1)\n",
    "print(df.columns)\n",
    "df.head()"
   ]
  },
  {
   "cell_type": "code",
   "execution_count": 7,
   "metadata": {},
   "outputs": [],
   "source": [
    "Sex_mapping = {'male' : 0 ,'female' : 1}"
   ]
  },
  {
   "cell_type": "code",
   "execution_count": 8,
   "metadata": {},
   "outputs": [],
   "source": [
    "df.Sex = df.Sex.map(Sex_mapping)"
   ]
  },
  {
   "cell_type": "code",
   "execution_count": 9,
   "metadata": {},
   "outputs": [
    {
     "data": {
      "text/html": [
       "<div>\n",
       "<style scoped>\n",
       "    .dataframe tbody tr th:only-of-type {\n",
       "        vertical-align: middle;\n",
       "    }\n",
       "\n",
       "    .dataframe tbody tr th {\n",
       "        vertical-align: top;\n",
       "    }\n",
       "\n",
       "    .dataframe thead th {\n",
       "        text-align: right;\n",
       "    }\n",
       "</style>\n",
       "<table border=\"1\" class=\"dataframe\">\n",
       "  <thead>\n",
       "    <tr style=\"text-align: right;\">\n",
       "      <th></th>\n",
       "      <th>Survived</th>\n",
       "      <th>Pclass</th>\n",
       "      <th>Sex</th>\n",
       "      <th>SibSp</th>\n",
       "      <th>Parch</th>\n",
       "      <th>Fare</th>\n",
       "    </tr>\n",
       "  </thead>\n",
       "  <tbody>\n",
       "    <tr>\n",
       "      <th>0</th>\n",
       "      <td>0</td>\n",
       "      <td>3</td>\n",
       "      <td>0</td>\n",
       "      <td>1</td>\n",
       "      <td>0</td>\n",
       "      <td>7.2500</td>\n",
       "    </tr>\n",
       "    <tr>\n",
       "      <th>1</th>\n",
       "      <td>1</td>\n",
       "      <td>1</td>\n",
       "      <td>1</td>\n",
       "      <td>1</td>\n",
       "      <td>0</td>\n",
       "      <td>71.2833</td>\n",
       "    </tr>\n",
       "    <tr>\n",
       "      <th>2</th>\n",
       "      <td>1</td>\n",
       "      <td>3</td>\n",
       "      <td>1</td>\n",
       "      <td>0</td>\n",
       "      <td>0</td>\n",
       "      <td>7.9250</td>\n",
       "    </tr>\n",
       "    <tr>\n",
       "      <th>3</th>\n",
       "      <td>1</td>\n",
       "      <td>1</td>\n",
       "      <td>1</td>\n",
       "      <td>1</td>\n",
       "      <td>0</td>\n",
       "      <td>53.1000</td>\n",
       "    </tr>\n",
       "    <tr>\n",
       "      <th>4</th>\n",
       "      <td>0</td>\n",
       "      <td>3</td>\n",
       "      <td>0</td>\n",
       "      <td>0</td>\n",
       "      <td>0</td>\n",
       "      <td>8.0500</td>\n",
       "    </tr>\n",
       "  </tbody>\n",
       "</table>\n",
       "</div>"
      ],
      "text/plain": [
       "   Survived  Pclass  Sex  SibSp  Parch     Fare\n",
       "0         0       3    0      1      0   7.2500\n",
       "1         1       1    1      1      0  71.2833\n",
       "2         1       3    1      0      0   7.9250\n",
       "3         1       1    1      1      0  53.1000\n",
       "4         0       3    0      0      0   8.0500"
      ]
     },
     "execution_count": 9,
     "metadata": {},
     "output_type": "execute_result"
    }
   ],
   "source": [
    "df.head()"
   ]
  },
  {
   "cell_type": "code",
   "execution_count": 10,
   "metadata": {},
   "outputs": [
    {
     "data": {
      "text/plain": [
       "(891, 6)"
      ]
     },
     "execution_count": 10,
     "metadata": {},
     "output_type": "execute_result"
    }
   ],
   "source": [
    "df.shape"
   ]
  },
  {
   "cell_type": "code",
   "execution_count": 11,
   "metadata": {},
   "outputs": [
    {
     "data": {
      "text/plain": [
       "Index(['Survived', 'Pclass', 'Sex', 'SibSp', 'Parch', 'Fare'], dtype='object')"
      ]
     },
     "execution_count": 11,
     "metadata": {},
     "output_type": "execute_result"
    }
   ],
   "source": [
    "df.keys()"
   ]
  },
  {
   "cell_type": "code",
   "execution_count": 12,
   "metadata": {},
   "outputs": [
    {
     "data": {
      "text/plain": [
       "668"
      ]
     },
     "execution_count": 12,
     "metadata": {},
     "output_type": "execute_result"
    }
   ],
   "source": [
    "split = int(0.75 * df.shape[0])\n",
    "split"
   ]
  },
  {
   "cell_type": "code",
   "execution_count": 13,
   "metadata": {},
   "outputs": [
    {
     "data": {
      "text/plain": [
       "pandas.core.frame.DataFrame"
      ]
     },
     "execution_count": 13,
     "metadata": {},
     "output_type": "execute_result"
    }
   ],
   "source": [
    "type(df)"
   ]
  },
  {
   "cell_type": "code",
   "execution_count": 14,
   "metadata": {},
   "outputs": [],
   "source": [
    "data = df.values"
   ]
  },
  {
   "cell_type": "code",
   "execution_count": 15,
   "metadata": {},
   "outputs": [
    {
     "data": {
      "text/plain": [
       "(891, 6)"
      ]
     },
     "execution_count": 15,
     "metadata": {},
     "output_type": "execute_result"
    }
   ],
   "source": [
    "data.shape"
   ]
  },
  {
   "cell_type": "code",
   "execution_count": 16,
   "metadata": {},
   "outputs": [],
   "source": [
    "x_train = data[:split,1:]\n",
    "y_train = data[:split,0]\n",
    "x_test = data[split:,1:]\n",
    "y_test = data[split:,0]"
   ]
  },
  {
   "cell_type": "code",
   "execution_count": 17,
   "metadata": {},
   "outputs": [
    {
     "name": "stdout",
     "output_type": "stream",
     "text": [
      "(668, 5)\n",
      "(223, 5)\n",
      "(668,)\n",
      "(223,)\n"
     ]
    }
   ],
   "source": [
    "print(x_train.shape)\n",
    "print(x_test.shape)\n",
    "print(y_train.shape)\n",
    "print(y_test.shape)"
   ]
  },
  {
   "cell_type": "markdown",
   "metadata": {},
   "source": [
    "# Logistic Regression"
   ]
  },
  {
   "cell_type": "code",
   "execution_count": 20,
   "metadata": {},
   "outputs": [],
   "source": [
    "import sklearn"
   ]
  },
  {
   "cell_type": "code",
   "execution_count": 21,
   "metadata": {},
   "outputs": [],
   "source": [
    "from sklearn.linear_model import LogisticRegression\n",
    "lr = LogisticRegression()"
   ]
  },
  {
   "cell_type": "code",
   "execution_count": 22,
   "metadata": {},
   "outputs": [
    {
     "name": "stderr",
     "output_type": "stream",
     "text": [
      "c:\\users\\dell\\appdata\\local\\programs\\python\\python36\\lib\\site-packages\\sklearn\\linear_model\\logistic.py:433: FutureWarning: Default solver will be changed to 'lbfgs' in 0.22. Specify a solver to silence this warning.\n",
      "  FutureWarning)\n"
     ]
    },
    {
     "data": {
      "text/plain": [
       "LogisticRegression(C=1.0, class_weight=None, dual=False, fit_intercept=True,\n",
       "          intercept_scaling=1, max_iter=100, multi_class='warn',\n",
       "          n_jobs=None, penalty='l2', random_state=None, solver='warn',\n",
       "          tol=0.0001, verbose=0, warm_start=False)"
      ]
     },
     "execution_count": 22,
     "metadata": {},
     "output_type": "execute_result"
    }
   ],
   "source": [
    "lr.fit(x_train,y_train)"
   ]
  },
  {
   "cell_type": "code",
   "execution_count": 23,
   "metadata": {},
   "outputs": [
    {
     "data": {
      "text/plain": [
       "0.8026905829596412"
      ]
     },
     "execution_count": 23,
     "metadata": {},
     "output_type": "execute_result"
    }
   ],
   "source": [
    "lr.score(x_test,y_test)"
   ]
  },
  {
   "cell_type": "code",
   "execution_count": 24,
   "metadata": {},
   "outputs": [
    {
     "data": {
      "text/plain": [
       "array([0., 1., 1., 0., 0., 0., 0., 0., 0., 1., 1., 0., 1., 0., 0., 0., 0.,\n",
       "       0., 0., 0., 0., 1., 0., 1., 0., 0., 0., 0., 0., 1., 0., 0., 1., 0.,\n",
       "       1., 0., 0., 0., 1., 0., 1., 0., 1., 0., 0., 0., 0., 0., 1., 1., 0.,\n",
       "       0., 1., 0., 0., 0., 0., 0., 1., 1., 0., 1., 1., 0., 0., 0., 0., 0.,\n",
       "       1., 0., 0., 0., 0., 0., 1., 0., 0., 0., 0., 1., 0., 0., 1., 0., 0.,\n",
       "       0., 1., 0., 0., 0., 0., 1., 0., 0., 0., 1., 0., 1., 0., 1., 0., 0.,\n",
       "       0., 0., 1., 0., 1., 0., 0., 1., 0., 1., 1., 1., 0., 0., 0., 0., 1.,\n",
       "       0., 0., 0., 0., 0., 0., 0., 0., 0., 1., 1., 0., 1., 0., 1., 0., 0.,\n",
       "       0., 0., 0., 1., 0., 1., 0., 0., 0., 0., 0., 0., 1., 0., 0., 0., 1.,\n",
       "       0., 0., 1., 0., 0., 0., 0., 0., 1., 1., 0., 0., 0., 0., 1., 0., 0.,\n",
       "       0., 0., 0., 0., 1., 0., 0., 0., 0., 0., 0., 1., 0., 0., 1., 1., 1.,\n",
       "       1., 1., 0., 1., 0., 0., 0., 1., 0., 0., 1., 1., 0., 0., 0., 0., 1.,\n",
       "       0., 0., 1., 1., 0., 0., 0., 1., 1., 0., 1., 0., 0., 1., 0., 1., 1.,\n",
       "       0., 0.])"
      ]
     },
     "execution_count": 24,
     "metadata": {},
     "output_type": "execute_result"
    }
   ],
   "source": [
    "y_pred = lr.predict(x_test)\n",
    "y_pred"
   ]
  },
  {
   "cell_type": "code",
   "execution_count": 25,
   "metadata": {},
   "outputs": [
    {
     "data": {
      "text/plain": [
       "80.26905829596413"
      ]
     },
     "execution_count": 25,
     "metadata": {},
     "output_type": "execute_result"
    }
   ],
   "source": [
    "((y_pred==y_test).sum()/y_test.shape[0])*100"
   ]
  },
  {
   "cell_type": "code",
   "execution_count": 26,
   "metadata": {},
   "outputs": [
    {
     "data": {
      "text/plain": [
       "(223,)"
      ]
     },
     "execution_count": 26,
     "metadata": {},
     "output_type": "execute_result"
    }
   ],
   "source": [
    "y_pred.shape"
   ]
  },
  {
   "cell_type": "code",
   "execution_count": 27,
   "metadata": {},
   "outputs": [
    {
     "data": {
      "text/plain": [
       "numpy.ndarray"
      ]
     },
     "execution_count": 27,
     "metadata": {},
     "output_type": "execute_result"
    }
   ],
   "source": [
    "type(y_pred)"
   ]
  },
  {
   "cell_type": "code",
   "execution_count": 28,
   "metadata": {},
   "outputs": [],
   "source": [
    "PRED = pd.DataFrame(y_pred)"
   ]
  },
  {
   "cell_type": "code",
   "execution_count": 29,
   "metadata": {},
   "outputs": [
    {
     "data": {
      "text/plain": [
       "(223, 1)"
      ]
     },
     "execution_count": 29,
     "metadata": {},
     "output_type": "execute_result"
    }
   ],
   "source": [
    "PRED.shape"
   ]
  },
  {
   "cell_type": "code",
   "execution_count": 30,
   "metadata": {},
   "outputs": [
    {
     "data": {
      "text/html": [
       "<div>\n",
       "<style scoped>\n",
       "    .dataframe tbody tr th:only-of-type {\n",
       "        vertical-align: middle;\n",
       "    }\n",
       "\n",
       "    .dataframe tbody tr th {\n",
       "        vertical-align: top;\n",
       "    }\n",
       "\n",
       "    .dataframe thead th {\n",
       "        text-align: right;\n",
       "    }\n",
       "</style>\n",
       "<table border=\"1\" class=\"dataframe\">\n",
       "  <thead>\n",
       "    <tr style=\"text-align: right;\">\n",
       "      <th></th>\n",
       "      <th>0</th>\n",
       "    </tr>\n",
       "  </thead>\n",
       "  <tbody>\n",
       "    <tr>\n",
       "      <th>0</th>\n",
       "      <td>0.0</td>\n",
       "    </tr>\n",
       "    <tr>\n",
       "      <th>1</th>\n",
       "      <td>1.0</td>\n",
       "    </tr>\n",
       "    <tr>\n",
       "      <th>2</th>\n",
       "      <td>1.0</td>\n",
       "    </tr>\n",
       "    <tr>\n",
       "      <th>3</th>\n",
       "      <td>0.0</td>\n",
       "    </tr>\n",
       "    <tr>\n",
       "      <th>4</th>\n",
       "      <td>0.0</td>\n",
       "    </tr>\n",
       "  </tbody>\n",
       "</table>\n",
       "</div>"
      ],
      "text/plain": [
       "     0\n",
       "0  0.0\n",
       "1  1.0\n",
       "2  1.0\n",
       "3  0.0\n",
       "4  0.0"
      ]
     },
     "execution_count": 30,
     "metadata": {},
     "output_type": "execute_result"
    }
   ],
   "source": [
    "PRED.head()"
   ]
  },
  {
   "cell_type": "code",
   "execution_count": 31,
   "metadata": {},
   "outputs": [],
   "source": [
    "result = PRED.to_csv('PRED.csv')"
   ]
  },
  {
   "cell_type": "markdown",
   "metadata": {},
   "source": [
    "# Random Forest"
   ]
  },
  {
   "cell_type": "code",
   "execution_count": 32,
   "metadata": {},
   "outputs": [],
   "source": [
    "# Random Forest\n",
    "from sklearn.ensemble import RandomForestClassifier\n"
   ]
  },
  {
   "cell_type": "code",
   "execution_count": 33,
   "metadata": {},
   "outputs": [
    {
     "data": {
      "text/plain": [
       "RandomForestClassifier(bootstrap=True, class_weight=None, criterion='gini',\n",
       "            max_depth=None, max_features='auto', max_leaf_nodes=None,\n",
       "            min_impurity_decrease=0.0, min_impurity_split=None,\n",
       "            min_samples_leaf=1, min_samples_split=2,\n",
       "            min_weight_fraction_leaf=0.0, n_estimators=100, n_jobs=None,\n",
       "            oob_score=False, random_state=None, verbose=0,\n",
       "            warm_start=False)"
      ]
     },
     "execution_count": 33,
     "metadata": {},
     "output_type": "execute_result"
    }
   ],
   "source": [
    "rf = RandomForestClassifier(n_estimators = 100)\n",
    "rf.fit(x_train,y_train)\n"
   ]
  },
  {
   "cell_type": "code",
   "execution_count": 41,
   "metadata": {},
   "outputs": [],
   "source": [
    "Y_pred_rf = rf.predict(x_test)"
   ]
  },
  {
   "cell_type": "code",
   "execution_count": 42,
   "metadata": {},
   "outputs": [
    {
     "data": {
      "text/plain": [
       "(223,)"
      ]
     },
     "execution_count": 42,
     "metadata": {},
     "output_type": "execute_result"
    }
   ],
   "source": [
    "Y_pred_rf.shape"
   ]
  },
  {
   "cell_type": "code",
   "execution_count": 44,
   "metadata": {},
   "outputs": [
    {
     "data": {
      "text/plain": [
       "81.61434977578476"
      ]
     },
     "execution_count": 44,
     "metadata": {},
     "output_type": "execute_result"
    }
   ],
   "source": [
    "((Y_pred_rf==y_test).sum()/y_test.shape[0])*100"
   ]
  },
  {
   "cell_type": "code",
   "execution_count": 38,
   "metadata": {},
   "outputs": [
    {
     "data": {
      "text/plain": [
       "0.8161434977578476"
      ]
     },
     "execution_count": 38,
     "metadata": {},
     "output_type": "execute_result"
    }
   ],
   "source": [
    "rf.score(x_test,y_test)"
   ]
  },
  {
   "cell_type": "code",
   "execution_count": 45,
   "metadata": {},
   "outputs": [],
   "source": [
    "# Accuracy is improved by using random forest as in comparsion to logistic Regression"
   ]
  },
  {
   "cell_type": "markdown",
   "metadata": {},
   "source": [
    "# SVM"
   ]
  },
  {
   "cell_type": "code",
   "execution_count": 46,
   "metadata": {},
   "outputs": [],
   "source": [
    "from sklearn.svm import SVC"
   ]
  },
  {
   "cell_type": "code",
   "execution_count": 47,
   "metadata": {},
   "outputs": [
    {
     "data": {
      "text/plain": [
       "SVC(C=30, cache_size=200, class_weight=None, coef0=0.0,\n",
       "  decision_function_shape='ovr', degree=3, gamma=0.01, kernel='rbf',\n",
       "  max_iter=-1, probability=False, random_state=None, shrinking=True,\n",
       "  tol=0.001, verbose=False)"
      ]
     },
     "execution_count": 47,
     "metadata": {},
     "output_type": "execute_result"
    }
   ],
   "source": [
    "svc = SVC(C = 30, gamma = 0.01)\n",
    "svc.fit(x_train,y_train) "
   ]
  },
  {
   "cell_type": "code",
   "execution_count": 51,
   "metadata": {},
   "outputs": [
    {
     "name": "stdout",
     "output_type": "stream",
     "text": [
      "[0. 1. 1. 0. 0. 0. 0. 0. 0. 0. 0. 0. 0. 0. 0. 0. 1. 0. 0. 0. 0. 1. 1. 0.\n",
      " 1. 0. 1. 0. 0. 1. 0. 0. 1. 1. 0. 0. 1. 0. 1. 1. 1. 1. 1. 1. 0. 0. 0. 0.\n",
      " 1. 1. 0. 0. 1. 0. 0. 0. 0. 0. 0. 1. 0. 1. 1. 1. 0. 0. 0. 0. 0. 0. 0. 0.\n",
      " 1. 1. 1. 0. 0. 1. 0. 1. 0. 0. 1. 0. 0. 0. 1. 1. 0. 0. 0. 1. 0. 0. 0. 1.\n",
      " 0. 1. 0. 1. 0. 0. 0. 0. 1. 0. 1. 0. 0. 1. 0. 1. 1. 1. 1. 0. 0. 0. 1. 0.\n",
      " 0. 0. 0. 0. 0. 0. 0. 0. 1. 0. 0. 1. 0. 1. 1. 0. 0. 0. 0. 0. 0. 1. 0. 0.\n",
      " 0. 0. 0. 0. 1. 1. 0. 0. 1. 0. 0. 1. 0. 0. 1. 1. 0. 1. 0. 1. 0. 0. 0. 1.\n",
      " 0. 0. 1. 0. 0. 0. 1. 0. 0. 0. 0. 0. 0. 1. 0. 0. 0. 1. 1. 0. 1. 1. 0. 0.\n",
      " 0. 0. 1. 0. 0. 1. 0. 0. 0. 0. 0. 1. 0. 0. 1. 1. 0. 0. 0. 1. 1. 0. 0. 0.\n",
      " 0. 0. 0. 1. 1. 1. 0.]\n"
     ]
    }
   ],
   "source": [
    "Y_pred_svm = rf.predict(x_test)\n",
    "print(Y_pred_svm)"
   ]
  },
  {
   "cell_type": "code",
   "execution_count": 55,
   "metadata": {},
   "outputs": [
    {
     "data": {
      "text/plain": [
       "81.61434977578476"
      ]
     },
     "execution_count": 55,
     "metadata": {},
     "output_type": "execute_result"
    }
   ],
   "source": [
    "# Accuracy\n",
    "((Y_pred_svm==y_test).sum()/y_test.shape[0])*100"
   ]
  },
  {
   "cell_type": "markdown",
   "metadata": {},
   "source": [
    "# Naive Bayes"
   ]
  },
  {
   "cell_type": "code",
   "execution_count": 56,
   "metadata": {},
   "outputs": [],
   "source": [
    "from sklearn.naive_bayes import GaussianNB"
   ]
  },
  {
   "cell_type": "code",
   "execution_count": 57,
   "metadata": {},
   "outputs": [
    {
     "data": {
      "text/plain": [
       "GaussianNB(priors=None, var_smoothing=1e-09)"
      ]
     },
     "execution_count": 57,
     "metadata": {},
     "output_type": "execute_result"
    }
   ],
   "source": [
    "clf = GaussianNB()\n",
    "clf.fit(x_train,y_train)"
   ]
  },
  {
   "cell_type": "code",
   "execution_count": 58,
   "metadata": {},
   "outputs": [],
   "source": [
    "Y_pred_clf = clf.predict(x_test)"
   ]
  },
  {
   "cell_type": "code",
   "execution_count": 59,
   "metadata": {},
   "outputs": [
    {
     "name": "stdout",
     "output_type": "stream",
     "text": [
      "[0. 1. 1. 0. 0. 0. 0. 0. 0. 1. 1. 1. 1. 1. 0. 0. 0. 0. 0. 0. 0. 1. 0. 1.\n",
      " 0. 0. 0. 0. 0. 1. 1. 0. 1. 0. 1. 0. 0. 0. 1. 0. 1. 0. 1. 0. 0. 0. 0. 0.\n",
      " 1. 1. 0. 0. 1. 0. 0. 0. 0. 0. 0. 1. 0. 1. 1. 0. 0. 0. 0. 0. 1. 1. 0. 0.\n",
      " 0. 1. 1. 0. 0. 1. 0. 1. 0. 0. 1. 0. 0. 0. 1. 0. 0. 0. 0. 1. 0. 0. 0. 1.\n",
      " 0. 1. 0. 1. 0. 0. 0. 0. 1. 0. 1. 0. 0. 1. 0. 1. 1. 1. 0. 0. 0. 0. 1. 0.\n",
      " 0. 1. 0. 0. 0. 0. 0. 0. 1. 1. 0. 1. 0. 1. 1. 0. 0. 0. 0. 1. 0. 1. 0. 0.\n",
      " 0. 0. 0. 0. 1. 0. 0. 0. 1. 0. 0. 1. 0. 0. 0. 0. 0. 1. 1. 0. 0. 0. 0. 1.\n",
      " 0. 0. 0. 0. 0. 0. 1. 0. 0. 0. 0. 0. 0. 1. 0. 0. 1. 1. 1. 1. 1. 0. 1. 0.\n",
      " 0. 0. 1. 0. 0. 1. 1. 0. 0. 0. 0. 1. 0. 0. 1. 1. 0. 0. 0. 1. 1. 0. 1. 0.\n",
      " 0. 1. 0. 1. 1. 0. 0.]\n"
     ]
    }
   ],
   "source": [
    "print(Y_pred_clf)"
   ]
  },
  {
   "cell_type": "code",
   "execution_count": 60,
   "metadata": {},
   "outputs": [
    {
     "data": {
      "text/plain": [
       "79.82062780269058"
      ]
     },
     "execution_count": 60,
     "metadata": {},
     "output_type": "execute_result"
    }
   ],
   "source": [
    "# Accuracy\n",
    "((Y_pred_clf==y_test).sum()/y_test.shape[0])*100"
   ]
  },
  {
   "cell_type": "markdown",
   "metadata": {},
   "source": [
    "# Nueral Nets"
   ]
  },
  {
   "cell_type": "code",
   "execution_count": 188,
   "metadata": {},
   "outputs": [],
   "source": [
    "import keras \n",
    "from keras.layers import Dense , Activation\n",
    "from keras.models import Sequential"
   ]
  },
  {
   "cell_type": "code",
   "execution_count": 189,
   "metadata": {},
   "outputs": [
    {
     "name": "stdout",
     "output_type": "stream",
     "text": [
      "(668, 5)\n"
     ]
    }
   ],
   "source": [
    "print(x_train.shape)"
   ]
  },
  {
   "cell_type": "code",
   "execution_count": 218,
   "metadata": {},
   "outputs": [
    {
     "name": "stdout",
     "output_type": "stream",
     "text": [
      "_________________________________________________________________\n",
      "Layer (type)                 Output Shape              Param #   \n",
      "=================================================================\n",
      "dense_21 (Dense)             (None, 10)                60        \n",
      "_________________________________________________________________\n",
      "activation_21 (Activation)   (None, 10)                0         \n",
      "_________________________________________________________________\n",
      "dense_22 (Dense)             (None, 10)                110       \n",
      "_________________________________________________________________\n",
      "activation_22 (Activation)   (None, 10)                0         \n",
      "_________________________________________________________________\n",
      "dense_23 (Dense)             (None, 9)                 99        \n",
      "_________________________________________________________________\n",
      "activation_23 (Activation)   (None, 9)                 0         \n",
      "_________________________________________________________________\n",
      "dense_24 (Dense)             (None, 1)                 10        \n",
      "_________________________________________________________________\n",
      "activation_24 (Activation)   (None, 1)                 0         \n",
      "=================================================================\n",
      "Total params: 279\n",
      "Trainable params: 279\n",
      "Non-trainable params: 0\n",
      "_________________________________________________________________\n"
     ]
    }
   ],
   "source": [
    "model = Sequential()\n",
    "model.add(Dense(10,input_shape=(5,)))\n",
    "model.add(Activation('relu'))\n",
    "\n",
    "model.add(Dense(10))\n",
    "model.add(Activation('relu'))\n",
    "\n",
    "model.add(Dense(9))\n",
    "model.add(Activation('relu'))\n",
    "\n",
    "\n",
    "model.add(Dense(1))\n",
    "model.add(Activation('sigmoid'))\n",
    "\n",
    "model.summary()"
   ]
  },
  {
   "cell_type": "code",
   "execution_count": 219,
   "metadata": {},
   "outputs": [],
   "source": [
    "model.compile(optimizer = 'adam',\n",
    "             loss = 'binary_crossentropy',\n",
    "             metrics = ['accuracy'])"
   ]
  },
  {
   "cell_type": "code",
   "execution_count": 220,
   "metadata": {},
   "outputs": [
    {
     "name": "stderr",
     "output_type": "stream",
     "text": [
      "c:\\users\\dell\\appdata\\local\\programs\\python\\python36\\lib\\site-packages\\ipykernel_launcher.py:5: UserWarning: The `nb_epoch` argument in `fit` has been renamed `epochs`.\n",
      "  \"\"\"\n"
     ]
    },
    {
     "name": "stdout",
     "output_type": "stream",
     "text": [
      "Train on 668 samples, validate on 223 samples\n",
      "Epoch 1/200\n",
      " - 2s - loss: 0.7871 - acc: 0.6108 - val_loss: 0.7056 - val_acc: 0.6323\n",
      "Epoch 2/200\n",
      " - 0s - loss: 0.6732 - acc: 0.6482 - val_loss: 0.6362 - val_acc: 0.7578\n",
      "Epoch 3/200\n",
      " - 0s - loss: 0.6559 - acc: 0.6587 - val_loss: 0.6140 - val_acc: 0.7578\n",
      "Epoch 4/200\n",
      " - 0s - loss: 0.6448 - acc: 0.6452 - val_loss: 0.5971 - val_acc: 0.7354\n",
      "Epoch 5/200\n",
      " - 0s - loss: 0.6375 - acc: 0.6602 - val_loss: 0.5886 - val_acc: 0.7578\n",
      "Epoch 6/200\n",
      " - 0s - loss: 0.6317 - acc: 0.6617 - val_loss: 0.5761 - val_acc: 0.7489\n",
      "Epoch 7/200\n",
      " - 0s - loss: 0.6232 - acc: 0.6662 - val_loss: 0.5693 - val_acc: 0.7354\n",
      "Epoch 8/200\n",
      " - 0s - loss: 0.6172 - acc: 0.6692 - val_loss: 0.5615 - val_acc: 0.7489\n",
      "Epoch 9/200\n",
      " - 0s - loss: 0.6131 - acc: 0.6662 - val_loss: 0.5690 - val_acc: 0.7130\n",
      "Epoch 10/200\n",
      " - 0s - loss: 0.6057 - acc: 0.6722 - val_loss: 0.5507 - val_acc: 0.7578\n",
      "Epoch 11/200\n",
      " - 0s - loss: 0.6072 - acc: 0.6632 - val_loss: 0.5405 - val_acc: 0.7713\n",
      "Epoch 12/200\n",
      " - 0s - loss: 0.6044 - acc: 0.6751 - val_loss: 0.5472 - val_acc: 0.7354\n",
      "Epoch 13/200\n",
      " - 0s - loss: 0.5928 - acc: 0.6692 - val_loss: 0.5306 - val_acc: 0.7713\n",
      "Epoch 14/200\n",
      " - 0s - loss: 0.5925 - acc: 0.6856 - val_loss: 0.5373 - val_acc: 0.7534\n",
      "Epoch 15/200\n",
      " - 0s - loss: 0.5872 - acc: 0.6722 - val_loss: 0.5293 - val_acc: 0.7444\n",
      "Epoch 16/200\n",
      " - 0s - loss: 0.5810 - acc: 0.6677 - val_loss: 0.5229 - val_acc: 0.7489\n",
      "Epoch 17/200\n",
      " - 0s - loss: 0.5760 - acc: 0.6722 - val_loss: 0.5135 - val_acc: 0.7623\n",
      "Epoch 18/200\n",
      " - 0s - loss: 0.5791 - acc: 0.7036 - val_loss: 0.5269 - val_acc: 0.7578\n",
      "Epoch 19/200\n",
      " - 0s - loss: 0.5779 - acc: 0.7021 - val_loss: 0.5068 - val_acc: 0.7937\n",
      "Epoch 20/200\n",
      " - 0s - loss: 0.5668 - acc: 0.6931 - val_loss: 0.5073 - val_acc: 0.7489\n",
      "Epoch 21/200\n",
      " - 0s - loss: 0.5602 - acc: 0.6961 - val_loss: 0.5070 - val_acc: 0.7534\n",
      "Epoch 22/200\n",
      " - 0s - loss: 0.5583 - acc: 0.7156 - val_loss: 0.4903 - val_acc: 0.7758\n",
      "Epoch 23/200\n",
      " - 0s - loss: 0.5511 - acc: 0.7290 - val_loss: 0.4903 - val_acc: 0.7803\n",
      "Epoch 24/200\n",
      " - 0s - loss: 0.5462 - acc: 0.7320 - val_loss: 0.4807 - val_acc: 0.7803\n",
      "Epoch 25/200\n",
      " - 0s - loss: 0.5460 - acc: 0.7320 - val_loss: 0.5202 - val_acc: 0.7578\n",
      "Epoch 26/200\n",
      " - 0s - loss: 0.5292 - acc: 0.7784 - val_loss: 0.4617 - val_acc: 0.8027\n",
      "Epoch 27/200\n",
      " - 0s - loss: 0.5124 - acc: 0.7874 - val_loss: 0.4880 - val_acc: 0.8027\n",
      "Epoch 28/200\n",
      " - 0s - loss: 0.5155 - acc: 0.7799 - val_loss: 0.4504 - val_acc: 0.8161\n",
      "Epoch 29/200\n",
      " - 0s - loss: 0.5077 - acc: 0.7754 - val_loss: 0.4493 - val_acc: 0.8251\n",
      "Epoch 30/200\n",
      " - 0s - loss: 0.4953 - acc: 0.7889 - val_loss: 0.4510 - val_acc: 0.8206\n",
      "Epoch 31/200\n",
      " - 0s - loss: 0.4891 - acc: 0.7919 - val_loss: 0.4600 - val_acc: 0.8161\n",
      "Epoch 32/200\n",
      " - 0s - loss: 0.4844 - acc: 0.7904 - val_loss: 0.4400 - val_acc: 0.8027\n",
      "Epoch 33/200\n",
      " - 0s - loss: 0.4857 - acc: 0.7889 - val_loss: 0.4399 - val_acc: 0.8251\n",
      "Epoch 34/200\n",
      " - 0s - loss: 0.4825 - acc: 0.7889 - val_loss: 0.4988 - val_acc: 0.8117\n",
      "Epoch 35/200\n",
      " - 0s - loss: 0.4829 - acc: 0.7994 - val_loss: 0.4378 - val_acc: 0.8072\n",
      "Epoch 36/200\n",
      " - 0s - loss: 0.4768 - acc: 0.7904 - val_loss: 0.4366 - val_acc: 0.8117\n",
      "Epoch 37/200\n",
      " - 0s - loss: 0.4776 - acc: 0.7859 - val_loss: 0.4338 - val_acc: 0.8027\n",
      "Epoch 38/200\n",
      " - 0s - loss: 0.4764 - acc: 0.7994 - val_loss: 0.4310 - val_acc: 0.8161\n",
      "Epoch 39/200\n",
      " - 0s - loss: 0.4751 - acc: 0.7994 - val_loss: 0.4481 - val_acc: 0.8161\n",
      "Epoch 40/200\n",
      " - 0s - loss: 0.4797 - acc: 0.7859 - val_loss: 0.4305 - val_acc: 0.8161\n",
      "Epoch 41/200\n",
      " - 0s - loss: 0.4733 - acc: 0.7964 - val_loss: 0.4283 - val_acc: 0.8117\n",
      "Epoch 42/200\n",
      " - 0s - loss: 0.4904 - acc: 0.7784 - val_loss: 0.4566 - val_acc: 0.8251\n",
      "Epoch 43/200\n",
      " - 0s - loss: 0.4735 - acc: 0.7859 - val_loss: 0.4343 - val_acc: 0.8161\n",
      "Epoch 44/200\n",
      " - 0s - loss: 0.4683 - acc: 0.7994 - val_loss: 0.4551 - val_acc: 0.8161\n",
      "Epoch 45/200\n",
      " - 0s - loss: 0.4743 - acc: 0.7919 - val_loss: 0.4267 - val_acc: 0.8117\n",
      "Epoch 46/200\n",
      " - 0s - loss: 0.4711 - acc: 0.8009 - val_loss: 0.4300 - val_acc: 0.8161\n",
      "Epoch 47/200\n",
      " - 0s - loss: 0.4717 - acc: 0.8024 - val_loss: 0.4361 - val_acc: 0.8072\n",
      "Epoch 48/200\n",
      " - 0s - loss: 0.4685 - acc: 0.7964 - val_loss: 0.4631 - val_acc: 0.8251\n",
      "Epoch 49/200\n",
      " - 0s - loss: 0.4659 - acc: 0.8024 - val_loss: 0.4420 - val_acc: 0.8161\n",
      "Epoch 50/200\n",
      " - 0s - loss: 0.4703 - acc: 0.7949 - val_loss: 0.4253 - val_acc: 0.8161\n",
      "Epoch 51/200\n",
      " - 0s - loss: 0.4700 - acc: 0.7979 - val_loss: 0.4228 - val_acc: 0.8161\n",
      "Epoch 52/200\n",
      " - 0s - loss: 0.4659 - acc: 0.8009 - val_loss: 0.4445 - val_acc: 0.8161\n",
      "Epoch 53/200\n",
      " - 0s - loss: 0.4725 - acc: 0.7979 - val_loss: 0.4260 - val_acc: 0.8161\n",
      "Epoch 54/200\n",
      " - 0s - loss: 0.4680 - acc: 0.7934 - val_loss: 0.4392 - val_acc: 0.8161\n",
      "Epoch 55/200\n",
      " - 0s - loss: 0.4679 - acc: 0.7979 - val_loss: 0.4303 - val_acc: 0.8072\n",
      "Epoch 56/200\n",
      " - 0s - loss: 0.4623 - acc: 0.8054 - val_loss: 0.4468 - val_acc: 0.8161\n",
      "Epoch 57/200\n",
      " - 0s - loss: 0.4642 - acc: 0.8009 - val_loss: 0.4390 - val_acc: 0.8206\n",
      "Epoch 58/200\n",
      " - 0s - loss: 0.4617 - acc: 0.8039 - val_loss: 0.4229 - val_acc: 0.8161\n",
      "Epoch 59/200\n",
      " - 0s - loss: 0.4628 - acc: 0.7949 - val_loss: 0.4343 - val_acc: 0.8161\n",
      "Epoch 60/200\n",
      " - 0s - loss: 0.4628 - acc: 0.8009 - val_loss: 0.4480 - val_acc: 0.8161\n",
      "Epoch 61/200\n",
      " - 0s - loss: 0.4630 - acc: 0.8039 - val_loss: 0.4213 - val_acc: 0.8161\n",
      "Epoch 62/200\n",
      " - 0s - loss: 0.4670 - acc: 0.8009 - val_loss: 0.4333 - val_acc: 0.8206\n",
      "Epoch 63/200\n",
      " - 0s - loss: 0.4636 - acc: 0.8039 - val_loss: 0.4207 - val_acc: 0.8027\n",
      "Epoch 64/200\n",
      " - 0s - loss: 0.4897 - acc: 0.7754 - val_loss: 0.4241 - val_acc: 0.8027\n",
      "Epoch 65/200\n",
      " - 0s - loss: 0.4661 - acc: 0.7844 - val_loss: 0.5361 - val_acc: 0.7803\n",
      "Epoch 66/200\n",
      " - 0s - loss: 0.4782 - acc: 0.7799 - val_loss: 0.4780 - val_acc: 0.8206\n",
      "Epoch 67/200\n",
      " - 0s - loss: 0.4965 - acc: 0.7769 - val_loss: 0.5422 - val_acc: 0.7848\n",
      "Epoch 68/200\n",
      " - 0s - loss: 0.4861 - acc: 0.7695 - val_loss: 0.4881 - val_acc: 0.8117\n",
      "Epoch 69/200\n",
      " - 0s - loss: 0.4822 - acc: 0.7874 - val_loss: 0.4421 - val_acc: 0.8206\n",
      "Epoch 70/200\n",
      " - 0s - loss: 0.4641 - acc: 0.8039 - val_loss: 0.4216 - val_acc: 0.8161\n",
      "Epoch 71/200\n",
      " - 0s - loss: 0.4650 - acc: 0.7994 - val_loss: 0.4379 - val_acc: 0.8206\n",
      "Epoch 72/200\n",
      " - 0s - loss: 0.4598 - acc: 0.8039 - val_loss: 0.4267 - val_acc: 0.8161\n",
      "Epoch 73/200\n",
      " - 0s - loss: 0.4594 - acc: 0.8039 - val_loss: 0.4267 - val_acc: 0.8161\n",
      "Epoch 74/200\n",
      " - 0s - loss: 0.4587 - acc: 0.8039 - val_loss: 0.4273 - val_acc: 0.8117\n",
      "Epoch 75/200\n",
      " - 0s - loss: 0.4704 - acc: 0.7889 - val_loss: 0.5471 - val_acc: 0.7892\n",
      "Epoch 76/200\n",
      " - 0s - loss: 0.4637 - acc: 0.7979 - val_loss: 0.4194 - val_acc: 0.8027\n",
      "Epoch 77/200\n",
      " - 0s - loss: 0.4675 - acc: 0.7934 - val_loss: 0.4305 - val_acc: 0.8296\n",
      "Epoch 78/200\n",
      " - 0s - loss: 0.4608 - acc: 0.8039 - val_loss: 0.4303 - val_acc: 0.8161\n",
      "Epoch 79/200\n",
      " - 0s - loss: 0.4601 - acc: 0.8039 - val_loss: 0.4315 - val_acc: 0.8072\n",
      "Epoch 80/200\n",
      " - 0s - loss: 0.4614 - acc: 0.8024 - val_loss: 0.4279 - val_acc: 0.8161\n",
      "Epoch 81/200\n",
      " - 0s - loss: 0.4580 - acc: 0.7994 - val_loss: 0.4527 - val_acc: 0.8206\n",
      "Epoch 82/200\n",
      " - 0s - loss: 0.4583 - acc: 0.8039 - val_loss: 0.4220 - val_acc: 0.8251\n",
      "Epoch 83/200\n",
      " - 0s - loss: 0.4552 - acc: 0.8009 - val_loss: 0.4882 - val_acc: 0.8161\n",
      "Epoch 84/200\n",
      " - 0s - loss: 0.4768 - acc: 0.7829 - val_loss: 0.5795 - val_acc: 0.7758\n",
      "Epoch 85/200\n",
      " - 0s - loss: 0.4936 - acc: 0.7710 - val_loss: 0.4308 - val_acc: 0.8206\n",
      "Epoch 86/200\n",
      " - 0s - loss: 0.4654 - acc: 0.7964 - val_loss: 0.4355 - val_acc: 0.8161\n",
      "Epoch 87/200\n",
      " - 0s - loss: 0.4605 - acc: 0.8054 - val_loss: 0.4153 - val_acc: 0.8161\n",
      "Epoch 88/200\n",
      " - 0s - loss: 0.4598 - acc: 0.7949 - val_loss: 0.4669 - val_acc: 0.8251\n",
      "Epoch 89/200\n",
      " - 0s - loss: 0.4697 - acc: 0.7874 - val_loss: 0.5309 - val_acc: 0.7937\n",
      "Epoch 90/200\n",
      " - 0s - loss: 0.4718 - acc: 0.7979 - val_loss: 0.4360 - val_acc: 0.8206\n",
      "Epoch 91/200\n",
      " - 0s - loss: 0.4642 - acc: 0.7979 - val_loss: 0.4240 - val_acc: 0.8161\n",
      "Epoch 92/200\n",
      " - 0s - loss: 0.4574 - acc: 0.7964 - val_loss: 0.4429 - val_acc: 0.8206\n",
      "Epoch 93/200\n",
      " - 0s - loss: 0.4586 - acc: 0.8009 - val_loss: 0.4375 - val_acc: 0.8206\n",
      "Epoch 94/200\n",
      " - 0s - loss: 0.4560 - acc: 0.8039 - val_loss: 0.4753 - val_acc: 0.8206\n",
      "Epoch 95/200\n",
      " - 0s - loss: 0.4865 - acc: 0.7799 - val_loss: 0.4917 - val_acc: 0.8161\n",
      "Epoch 96/200\n",
      " - 0s - loss: 0.4767 - acc: 0.7934 - val_loss: 0.4498 - val_acc: 0.8251\n"
     ]
    },
    {
     "name": "stdout",
     "output_type": "stream",
     "text": [
      "Epoch 97/200\n",
      " - 0s - loss: 0.4575 - acc: 0.8009 - val_loss: 0.4280 - val_acc: 0.8161\n",
      "Epoch 98/200\n",
      " - 0s - loss: 0.4554 - acc: 0.8039 - val_loss: 0.4316 - val_acc: 0.8206\n",
      "Epoch 99/200\n",
      " - 0s - loss: 0.4590 - acc: 0.8084 - val_loss: 0.4214 - val_acc: 0.8251\n",
      "Epoch 100/200\n",
      " - 0s - loss: 0.4671 - acc: 0.7904 - val_loss: 0.4515 - val_acc: 0.8251\n",
      "Epoch 101/200\n",
      " - 0s - loss: 0.4652 - acc: 0.7889 - val_loss: 0.4322 - val_acc: 0.8206\n",
      "Epoch 102/200\n",
      " - 0s - loss: 0.4606 - acc: 0.7979 - val_loss: 0.4545 - val_acc: 0.8206\n",
      "Epoch 103/200\n",
      " - 0s - loss: 0.4571 - acc: 0.8039 - val_loss: 0.4481 - val_acc: 0.8251\n",
      "Epoch 104/200\n",
      " - 0s - loss: 0.4685 - acc: 0.7889 - val_loss: 0.4630 - val_acc: 0.8251\n",
      "Epoch 105/200\n",
      " - 0s - loss: 0.4915 - acc: 0.7769 - val_loss: 0.4299 - val_acc: 0.8251\n",
      "Epoch 106/200\n",
      " - 0s - loss: 0.4636 - acc: 0.8024 - val_loss: 0.4414 - val_acc: 0.8206\n",
      "Epoch 107/200\n",
      " - 0s - loss: 0.4690 - acc: 0.7964 - val_loss: 0.4162 - val_acc: 0.8161\n",
      "Epoch 108/200\n",
      " - 0s - loss: 0.4556 - acc: 0.8054 - val_loss: 0.4277 - val_acc: 0.8161\n",
      "Epoch 109/200\n",
      " - 0s - loss: 0.4560 - acc: 0.7904 - val_loss: 0.4313 - val_acc: 0.8206\n",
      "Epoch 110/200\n",
      " - 0s - loss: 0.4539 - acc: 0.8024 - val_loss: 0.4158 - val_acc: 0.8161\n",
      "Epoch 111/200\n",
      " - 0s - loss: 0.4559 - acc: 0.7994 - val_loss: 0.4267 - val_acc: 0.8161\n",
      "Epoch 112/200\n",
      " - 0s - loss: 0.4547 - acc: 0.8054 - val_loss: 0.4428 - val_acc: 0.8206\n",
      "Epoch 113/200\n",
      " - 0s - loss: 0.4546 - acc: 0.8009 - val_loss: 0.4398 - val_acc: 0.8206\n",
      "Epoch 114/200\n",
      " - 0s - loss: 0.4634 - acc: 0.7949 - val_loss: 0.4616 - val_acc: 0.8206\n",
      "Epoch 115/200\n",
      " - 0s - loss: 0.4685 - acc: 0.7934 - val_loss: 0.4150 - val_acc: 0.8161\n",
      "Epoch 116/200\n",
      " - 0s - loss: 0.4561 - acc: 0.8024 - val_loss: 0.4134 - val_acc: 0.8117\n",
      "Epoch 117/200\n",
      " - 0s - loss: 0.4586 - acc: 0.8039 - val_loss: 0.4209 - val_acc: 0.8251\n",
      "Epoch 118/200\n",
      " - 0s - loss: 0.4565 - acc: 0.8039 - val_loss: 0.4151 - val_acc: 0.8251\n",
      "Epoch 119/200\n",
      " - 0s - loss: 0.4553 - acc: 0.8054 - val_loss: 0.4529 - val_acc: 0.8251\n",
      "Epoch 120/200\n",
      " - 0s - loss: 0.4586 - acc: 0.8039 - val_loss: 0.4292 - val_acc: 0.8206\n",
      "Epoch 121/200\n",
      " - 0s - loss: 0.4577 - acc: 0.8009 - val_loss: 0.4162 - val_acc: 0.8161\n",
      "Epoch 122/200\n",
      " - 0s - loss: 0.4697 - acc: 0.8024 - val_loss: 0.4347 - val_acc: 0.8296\n",
      "Epoch 123/200\n",
      " - 0s - loss: 0.4582 - acc: 0.7949 - val_loss: 0.4656 - val_acc: 0.8296\n",
      "Epoch 124/200\n",
      " - 0s - loss: 0.4550 - acc: 0.8039 - val_loss: 0.4250 - val_acc: 0.8161\n",
      "Epoch 125/200\n",
      " - 0s - loss: 0.4543 - acc: 0.8069 - val_loss: 0.4240 - val_acc: 0.8161\n",
      "Epoch 126/200\n",
      " - 0s - loss: 0.4562 - acc: 0.8054 - val_loss: 0.4140 - val_acc: 0.8161\n",
      "Epoch 127/200\n",
      " - 0s - loss: 0.4740 - acc: 0.7949 - val_loss: 0.4189 - val_acc: 0.7982\n",
      "Epoch 128/200\n",
      " - 0s - loss: 0.4640 - acc: 0.7904 - val_loss: 0.4175 - val_acc: 0.8161\n",
      "Epoch 129/200\n",
      " - 0s - loss: 0.4534 - acc: 0.8024 - val_loss: 0.4329 - val_acc: 0.8206\n",
      "Epoch 130/200\n",
      " - 0s - loss: 0.4581 - acc: 0.7994 - val_loss: 0.4513 - val_acc: 0.8251\n",
      "Epoch 131/200\n",
      " - 0s - loss: 0.4528 - acc: 0.8054 - val_loss: 0.4219 - val_acc: 0.8206\n",
      "Epoch 132/200\n",
      " - 0s - loss: 0.4539 - acc: 0.8009 - val_loss: 0.4163 - val_acc: 0.8161\n",
      "Epoch 133/200\n",
      " - 0s - loss: 0.4566 - acc: 0.8039 - val_loss: 0.4217 - val_acc: 0.8161\n",
      "Epoch 134/200\n",
      " - 0s - loss: 0.4529 - acc: 0.8069 - val_loss: 0.4137 - val_acc: 0.8161\n",
      "Epoch 135/200\n",
      " - 0s - loss: 0.4624 - acc: 0.7874 - val_loss: 0.4333 - val_acc: 0.8161\n",
      "Epoch 136/200\n",
      " - 0s - loss: 0.4593 - acc: 0.7919 - val_loss: 0.4136 - val_acc: 0.8117\n",
      "Epoch 137/200\n",
      " - 0s - loss: 0.4775 - acc: 0.8009 - val_loss: 0.4174 - val_acc: 0.8072\n",
      "Epoch 138/200\n",
      " - 0s - loss: 0.4542 - acc: 0.7934 - val_loss: 0.4659 - val_acc: 0.8251\n",
      "Epoch 139/200\n",
      " - 0s - loss: 0.4607 - acc: 0.7964 - val_loss: 0.4330 - val_acc: 0.8206\n",
      "Epoch 140/200\n",
      " - 0s - loss: 0.4535 - acc: 0.8024 - val_loss: 0.4232 - val_acc: 0.8206\n",
      "Epoch 141/200\n",
      " - 0s - loss: 0.4527 - acc: 0.8024 - val_loss: 0.4151 - val_acc: 0.8161\n",
      "Epoch 142/200\n",
      " - 0s - loss: 0.4502 - acc: 0.8054 - val_loss: 0.4624 - val_acc: 0.8251\n",
      "Epoch 143/200\n",
      " - 0s - loss: 0.4666 - acc: 0.7889 - val_loss: 0.4482 - val_acc: 0.8251\n",
      "Epoch 144/200\n",
      " - 0s - loss: 0.4517 - acc: 0.8024 - val_loss: 0.4400 - val_acc: 0.8251\n",
      "Epoch 145/200\n",
      " - 0s - loss: 0.4545 - acc: 0.8024 - val_loss: 0.4983 - val_acc: 0.8117\n",
      "Epoch 146/200\n",
      " - 0s - loss: 0.4740 - acc: 0.7889 - val_loss: 0.5537 - val_acc: 0.7758\n",
      "Epoch 147/200\n",
      " - 0s - loss: 0.4727 - acc: 0.7874 - val_loss: 0.4167 - val_acc: 0.8117\n",
      "Epoch 148/200\n",
      " - 0s - loss: 0.4572 - acc: 0.8039 - val_loss: 0.4334 - val_acc: 0.8206\n",
      "Epoch 149/200\n",
      " - 0s - loss: 0.4545 - acc: 0.7994 - val_loss: 0.4169 - val_acc: 0.8251\n",
      "Epoch 150/200\n",
      " - 0s - loss: 0.4514 - acc: 0.8054 - val_loss: 0.4283 - val_acc: 0.8206\n",
      "Epoch 151/200\n",
      " - 0s - loss: 0.4545 - acc: 0.7949 - val_loss: 0.4157 - val_acc: 0.8161\n",
      "Epoch 152/200\n",
      " - 0s - loss: 0.4559 - acc: 0.8009 - val_loss: 0.4127 - val_acc: 0.8161\n",
      "Epoch 153/200\n",
      " - 0s - loss: 0.4527 - acc: 0.7994 - val_loss: 0.4217 - val_acc: 0.8206\n",
      "Epoch 154/200\n",
      " - 0s - loss: 0.4576 - acc: 0.7979 - val_loss: 0.4242 - val_acc: 0.8251\n",
      "Epoch 155/200\n",
      " - 0s - loss: 0.4525 - acc: 0.8054 - val_loss: 0.4145 - val_acc: 0.8161\n",
      "Epoch 156/200\n",
      " - 0s - loss: 0.4622 - acc: 0.7964 - val_loss: 0.4164 - val_acc: 0.8251\n",
      "Epoch 157/200\n",
      " - 0s - loss: 0.4538 - acc: 0.7994 - val_loss: 0.4446 - val_acc: 0.8206\n",
      "Epoch 158/200\n",
      " - 0s - loss: 0.4512 - acc: 0.8054 - val_loss: 0.4286 - val_acc: 0.8161\n",
      "Epoch 159/200\n",
      " - 0s - loss: 0.4520 - acc: 0.8009 - val_loss: 0.4413 - val_acc: 0.8251\n",
      "Epoch 160/200\n",
      " - 0s - loss: 0.4543 - acc: 0.8039 - val_loss: 0.4354 - val_acc: 0.8296\n",
      "Epoch 161/200\n",
      " - 0s - loss: 0.4616 - acc: 0.7934 - val_loss: 0.4403 - val_acc: 0.8206\n",
      "Epoch 162/200\n",
      " - 0s - loss: 0.4540 - acc: 0.7994 - val_loss: 0.4156 - val_acc: 0.8161\n",
      "Epoch 163/200\n",
      " - 0s - loss: 0.4536 - acc: 0.7979 - val_loss: 0.4284 - val_acc: 0.8206\n",
      "Epoch 164/200\n",
      " - 0s - loss: 0.4505 - acc: 0.8054 - val_loss: 0.4240 - val_acc: 0.8251\n",
      "Epoch 165/200\n",
      " - 0s - loss: 0.4548 - acc: 0.8024 - val_loss: 0.4144 - val_acc: 0.8117\n",
      "Epoch 166/200\n",
      " - 0s - loss: 0.4562 - acc: 0.7964 - val_loss: 0.4126 - val_acc: 0.8206\n",
      "Epoch 167/200\n",
      " - 0s - loss: 0.4528 - acc: 0.8054 - val_loss: 0.4267 - val_acc: 0.8251\n",
      "Epoch 168/200\n",
      " - 0s - loss: 0.4573 - acc: 0.7964 - val_loss: 0.4184 - val_acc: 0.8251\n",
      "Epoch 169/200\n",
      " - 0s - loss: 0.4504 - acc: 0.8054 - val_loss: 0.4345 - val_acc: 0.8206\n",
      "Epoch 170/200\n",
      " - 0s - loss: 0.4508 - acc: 0.8039 - val_loss: 0.4326 - val_acc: 0.8251\n",
      "Epoch 171/200\n",
      " - 0s - loss: 0.4490 - acc: 0.8054 - val_loss: 0.4406 - val_acc: 0.8206\n",
      "Epoch 172/200\n",
      " - 0s - loss: 0.4518 - acc: 0.7949 - val_loss: 0.4837 - val_acc: 0.8161\n",
      "Epoch 173/200\n",
      " - 0s - loss: 0.4559 - acc: 0.7994 - val_loss: 0.4472 - val_acc: 0.8206\n",
      "Epoch 174/200\n",
      " - 0s - loss: 0.4550 - acc: 0.7949 - val_loss: 0.5643 - val_acc: 0.7623\n",
      "Epoch 175/200\n",
      " - 0s - loss: 0.4783 - acc: 0.7754 - val_loss: 0.4518 - val_acc: 0.8206\n",
      "Epoch 176/200\n",
      " - 0s - loss: 0.4628 - acc: 0.7904 - val_loss: 0.4139 - val_acc: 0.8117\n",
      "Epoch 177/200\n",
      " - 0s - loss: 0.4498 - acc: 0.8069 - val_loss: 0.4320 - val_acc: 0.8251\n",
      "Epoch 178/200\n",
      " - 0s - loss: 0.4504 - acc: 0.8054 - val_loss: 0.4127 - val_acc: 0.8161\n",
      "Epoch 179/200\n",
      " - 0s - loss: 0.4528 - acc: 0.7994 - val_loss: 0.4475 - val_acc: 0.8206\n",
      "Epoch 180/200\n",
      " - 0s - loss: 0.4515 - acc: 0.7994 - val_loss: 0.4363 - val_acc: 0.8206\n",
      "Epoch 181/200\n",
      " - 0s - loss: 0.4520 - acc: 0.8054 - val_loss: 0.4378 - val_acc: 0.8251\n",
      "Epoch 182/200\n",
      " - 0s - loss: 0.4618 - acc: 0.8024 - val_loss: 0.4679 - val_acc: 0.8072\n",
      "Epoch 183/200\n",
      " - 0s - loss: 0.4588 - acc: 0.8069 - val_loss: 0.4214 - val_acc: 0.8386\n",
      "Epoch 184/200\n",
      " - 0s - loss: 0.4528 - acc: 0.8054 - val_loss: 0.4488 - val_acc: 0.8251\n",
      "Epoch 185/200\n",
      " - 0s - loss: 0.4570 - acc: 0.8009 - val_loss: 0.4291 - val_acc: 0.8251\n",
      "Epoch 186/200\n",
      " - 0s - loss: 0.4587 - acc: 0.7994 - val_loss: 0.4212 - val_acc: 0.8161\n",
      "Epoch 187/200\n",
      " - 0s - loss: 0.4502 - acc: 0.8039 - val_loss: 0.4296 - val_acc: 0.8251\n",
      "Epoch 188/200\n",
      " - 0s - loss: 0.4493 - acc: 0.8069 - val_loss: 0.4311 - val_acc: 0.8206\n",
      "Epoch 189/200\n",
      " - 0s - loss: 0.4565 - acc: 0.7934 - val_loss: 0.4128 - val_acc: 0.8251\n",
      "Epoch 190/200\n",
      " - 0s - loss: 0.4593 - acc: 0.7979 - val_loss: 0.4243 - val_acc: 0.8027\n",
      "Epoch 191/200\n",
      " - 0s - loss: 0.4740 - acc: 0.7904 - val_loss: 0.4190 - val_acc: 0.8251\n",
      "Epoch 192/200\n",
      " - 0s - loss: 0.4533 - acc: 0.7979 - val_loss: 0.4457 - val_acc: 0.8206\n"
     ]
    },
    {
     "name": "stdout",
     "output_type": "stream",
     "text": [
      "Epoch 193/200\n",
      " - 0s - loss: 0.4517 - acc: 0.8009 - val_loss: 0.4115 - val_acc: 0.8206\n",
      "Epoch 194/200\n",
      " - 0s - loss: 0.4516 - acc: 0.8024 - val_loss: 0.4325 - val_acc: 0.8296\n",
      "Epoch 195/200\n",
      " - 0s - loss: 0.4774 - acc: 0.7889 - val_loss: 0.5779 - val_acc: 0.7623\n",
      "Epoch 196/200\n",
      " - 0s - loss: 0.4588 - acc: 0.7979 - val_loss: 0.4136 - val_acc: 0.8206\n",
      "Epoch 197/200\n",
      " - 0s - loss: 0.4564 - acc: 0.7904 - val_loss: 0.4123 - val_acc: 0.8161\n",
      "Epoch 198/200\n",
      " - 0s - loss: 0.4501 - acc: 0.7994 - val_loss: 0.4195 - val_acc: 0.8161\n",
      "Epoch 199/200\n",
      " - 0s - loss: 0.4503 - acc: 0.8024 - val_loss: 0.4337 - val_acc: 0.8251\n",
      "Epoch 200/200\n",
      " - 0s - loss: 0.4502 - acc: 0.8084 - val_loss: 0.4210 - val_acc: 0.8206\n"
     ]
    },
    {
     "data": {
      "text/plain": [
       "<keras.callbacks.History at 0x117d4f319b0>"
      ]
     },
     "execution_count": 220,
     "metadata": {},
     "output_type": "execute_result"
    }
   ],
   "source": [
    "model.fit(x_train,y_train,\n",
    "         batch_size = 32 , \n",
    "         nb_epoch = 200, \n",
    "         verbose = 2,\n",
    "         validation_data = (x_test,y_test))"
   ]
  },
  {
   "cell_type": "code",
   "execution_count": null,
   "metadata": {},
   "outputs": [],
   "source": []
  }
 ],
 "metadata": {
  "kernelspec": {
   "display_name": "Python 3",
   "language": "python",
   "name": "python3"
  },
  "language_info": {
   "codemirror_mode": {
    "name": "ipython",
    "version": 3
   },
   "file_extension": ".py",
   "mimetype": "text/x-python",
   "name": "python",
   "nbconvert_exporter": "python",
   "pygments_lexer": "ipython3",
   "version": "3.6.7"
  }
 },
 "nbformat": 4,
 "nbformat_minor": 2
}
